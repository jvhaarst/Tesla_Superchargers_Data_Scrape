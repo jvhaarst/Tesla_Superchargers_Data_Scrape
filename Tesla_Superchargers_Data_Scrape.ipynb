{
 "cells": [
  {
   "cell_type": "markdown",
   "metadata": {},
   "source": [
    "### Scraping current supercharger data from Teslas website"
   ]
  },
  {
   "cell_type": "code",
   "execution_count": 1,
   "metadata": {},
   "outputs": [
    {
     "data": {
      "text/html": [
       "<style>.container { width:100% !important; }</style>"
      ],
      "text/plain": [
       "<IPython.core.display.HTML object>"
      ]
     },
     "metadata": {},
     "output_type": "display_data"
    }
   ],
   "source": [
    "# This uses the complete width of the screen with Jupyter\n",
    "from IPython.display import display, HTML\n",
    "display(HTML(\"<style>.container { width:100% !important; }</style>\"))"
   ]
  },
  {
   "cell_type": "code",
   "execution_count": null,
   "metadata": {},
   "outputs": [],
   "source": [
    "import requests\n",
    "from bs4 import BeautifulSoup\n",
    "import pandas as pd\n",
    "from urllib.parse import urljoin,urlparse,parse_qs\n",
    "import re\n",
    "from datetime import datetime, timezone\n"
   ]
  },
  {
   "cell_type": "code",
   "execution_count": null,
   "metadata": {},
   "outputs": [],
   "source": [
    "# Get list of countries\n",
    "url = 'https://www.tesla.com/findus/list'\n",
    "response = requests.get(url)\n",
    "soup = BeautifulSoup(response.content)\n",
    "countries = []\n",
    "for row in soup.find_all('section', {'class': 'row'}):\n",
    "    for h2 in row.find_all('h2'):\n",
    "        if 'Superchargers' in (h2.text):\n",
    "            hrefs = row.find_all('a', href=True)\n",
    "            for href in hrefs:\n",
    "                country = href['href'].rsplit('/')[-1]\n",
    "                countries.append(country)\n",
    "countries = list(set(countries))\n",
    "countries.sort()"
   ]
  },
  {
   "cell_type": "code",
   "execution_count": null,
   "metadata": {},
   "outputs": [],
   "source": [
    "def get_locations(url,country):\n",
    "    locations = []\n",
    "    response = requests.get(url)\n",
    "    try:\n",
    "        soup = BeautifulSoup(response.content, 'lxml')\n",
    "        if soup:\n",
    "            for address in soup.find_all('address', {'class': 'vcard'}):\n",
    "                location = {}\n",
    "                location['URL'] = urljoin(url ,address.find('a', href=True)['href'])\n",
    "                try:\n",
    "                    location['street_address'] = address.find('span', {'class': 'street-address'}).text.strip()\n",
    "                except:\n",
    "                    pass\n",
    "                try:\n",
    "                    location['locality'] = address.find('span', {'class': 'locality'}).text.strip()\n",
    "                except:\n",
    "                    pass\n",
    "                locations.append(location)\n",
    "    except:\n",
    "        print(\"Fail on {}\".format(country))\n",
    "        pass\n",
    "    return locations"
   ]
  },
  {
   "cell_type": "code",
   "execution_count": null,
   "metadata": {},
   "outputs": [],
   "source": [
    "locations = []\n",
    "from tqdm.notebook import tqdm\n",
    "\n",
    "for country in tqdm(set(countries)):\n",
    "    url = 'https://www.tesla.com/findus/list/superchargers/'\n",
    "    url = urljoin(url, country)\n",
    "    locations = locations + get_locations(url, country)"
   ]
  },
  {
   "cell_type": "code",
   "execution_count": null,
   "metadata": {},
   "outputs": [],
   "source": [
    "df = pd.DataFrame(locations)"
   ]
  },
  {
   "cell_type": "code",
   "execution_count": null,
   "metadata": {},
   "outputs": [],
   "source": [
    "df = df.replace(to_replace ='\\s+', value = ' ', regex = True)"
   ]
  },
  {
   "cell_type": "code",
   "execution_count": null,
   "metadata": {},
   "outputs": [],
   "source": [
    "df.describe()"
   ]
  },
  {
   "cell_type": "code",
   "execution_count": null,
   "metadata": {},
   "outputs": [],
   "source": [
    "df.to_parquet('df.'+datetime.utcnow().isoformat(sep='T',timespec='minutes')+'.parquet')"
   ]
  },
  {
   "cell_type": "code",
   "execution_count": null,
   "metadata": {},
   "outputs": [],
   "source": [
    "def get_info_from_url(url, index, debug=False):\n",
    "    global df\n",
    "    # Grab data from URL\n",
    "    response = requests.get(url)\n",
    "    soup = BeautifulSoup(response.content, 'lxml')\n",
    "    # Do we have a \"Driving Directions\" entry ?\n",
    "    hrefs = soup.find_all('a', href=True)\n",
    "    coords = ''\n",
    "    for href in hrefs:\n",
    "        if href.text == 'Driving Directions':\n",
    "            coords = urlparse(href['href']).query.split('=')[1]\n",
    "    # If not, use grab the info from the map image\n",
    "    if len(coords) == 0:\n",
    "        div = soup.find('div', {'id': 'location-map'})\n",
    "        if div:\n",
    "            img_src = div.find('img')['src']\n",
    "            if img_src:\n",
    "                coords = parse_qs(urlparse(img_src).query)['center'][0]\n",
    "    # Add ccordinate info to dataframe\n",
    "    if coords:\n",
    "        df.loc[index, 'latitude'] = coords.split(',')[0]\n",
    "        df.loc[index, 'longitude'] = coords.split(',')[1]\n",
    "    else:\n",
    "        df.loc[index, 'latitude'] = ''\n",
    "        df.loc[index, 'longitude'] = ''\n",
    "    # Grab charging info from \"Charging\" line\n",
    "    charging_text = soup.select_one('p:-soup-contains(\"Charging\")')\n",
    "    if charging_text:\n",
    "        charging_text= charging_text.get_text(separator=\" \")\n",
    "        df.loc[index, 'charging_text'] = charging_text\n",
    "        if debug:\n",
    "            print(charging_text)\n",
    "        number = re.search('(\\d+).*Superchargers', charging_text)\n",
    "        if number:\n",
    "            number = number.group(1)\n",
    "            df.loc[index, 'number'] = number\n",
    "            if debug:\n",
    "                print(number)\n",
    "        kw = re.search('(\\d+)kW', charging_text)\n",
    "        if kw:\n",
    "            kw = kw.group(1)        \n",
    "            df.loc[index, 'kw'] = kw\n",
    "            if debug:\n",
    "                print(kw)        \n",
    "    else:\n",
    "        df.loc[index, 'number'] = ''\n",
    "        df.loc[index, 'kw'] = ''\n",
    "            \n",
    "    # Grab open info\n",
    "    open_text = soup.select_one('i:-soup-contains(\"Non-Tesla\")')\n",
    "    if open_text:\n",
    "        df.loc[index, 'open'] = open_text.get_text(separator=\" \")\n",
    "        if debug:\n",
    "            print(open_text)\n",
    "    else:\n",
    "        df.loc[index, 'open'] = ''\n"
   ]
  },
  {
   "cell_type": "code",
   "execution_count": null,
   "metadata": {},
   "outputs": [],
   "source": [
    "from tqdm.notebook import tqdm\n",
    "import traceback\n",
    "# loop over all locations, and grab extra info from URL\n",
    "#for index,location in df.iterrows():\n",
    "for index,location in tqdm(df.iterrows(), total=df.shape[0]):\n",
    "    try:\n",
    "        get_info_from_url(location['URL'],index)\n",
    "    except Exception:\n",
    "        print(\"Fail on ({}):{}\".format(index,location['URL']))\n",
    "        traceback.print_exc()\n",
    "        break"
   ]
  },
  {
   "cell_type": "code",
   "execution_count": null,
   "metadata": {},
   "outputs": [],
   "source": [
    "df.to_parquet('df.filled.'+datetime.utcnow().isoformat(sep='T',timespec='minutes')+'.parquet')"
   ]
  },
  {
   "cell_type": "code",
   "execution_count": null,
   "metadata": {},
   "outputs": [],
   "source": [
    "df.describe()"
   ]
  },
  {
   "cell_type": "code",
   "execution_count": null,
   "metadata": {},
   "outputs": [],
   "source": [
    "from collections import defaultdict\n",
    "charging_texts = df.charging_text.unique().tolist()\n",
    "kw = defaultdict(int)\n",
    "for charging_text in charging_texts:\n",
    "    try:\n",
    "        for match in re.findall('(\\d+)kW',charging_text):\n",
    "            kw[int(match)] += 1\n",
    "    except:\n",
    "        pass\n",
    "kw = sorted(list(kw))"
   ]
  },
  {
   "cell_type": "code",
   "execution_count": null,
   "metadata": {},
   "outputs": [],
   "source": [
    "from tqdm.notebook import tqdm\n",
    "import traceback\n",
    "# loop over all locations, and grab extra info from URL\n",
    "for index,location in tqdm(df.iterrows(), total=df.shape[0]):\n",
    "    charging_text = location[\"charging_text\"]\n",
    "    try:\n",
    "        if charging_text:\n",
    "            counts = re.findall('(\\d+)\\s+Superchargers',charging_text)\n",
    "            powers = re.findall('(\\d+)kW',charging_text)\n",
    "            for count, power in zip(counts,powers):\n",
    "                df.loc[index, power] = count\n",
    "    except:\n",
    "        print(charging_text)\n",
    "        break"
   ]
  },
  {
   "cell_type": "code",
   "execution_count": null,
   "metadata": {},
   "outputs": [],
   "source": [
    "df.head()"
   ]
  }
 ],
 "metadata": {
  "kernelspec": {
   "display_name": "scrape",
   "language": "python",
   "name": "scrape"
  },
  "language_info": {
   "codemirror_mode": {
    "name": "ipython",
    "version": 3
   },
   "file_extension": ".py",
   "mimetype": "text/x-python",
   "name": "python",
   "nbconvert_exporter": "python",
   "pygments_lexer": "ipython3",
   "version": "3.8.13"
  }
 },
 "nbformat": 4,
 "nbformat_minor": 2
}
